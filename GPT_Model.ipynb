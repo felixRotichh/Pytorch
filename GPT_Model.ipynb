{
  "nbformat": 4,
  "nbformat_minor": 0,
  "metadata": {
    "colab": {
      "provenance": [],
      "authorship_tag": "ABX9TyMYWtrhkz6cV8vhX0+WtaSc"
    },
    "kernelspec": {
      "name": "python3",
      "display_name": "Python 3"
    },
    "language_info": {
      "name": "python"
    }
  },
  "cells": [
    {
      "cell_type": "code",
      "execution_count": 2,
      "metadata": {
        "id": "4tp8rop76re4"
      },
      "outputs": [],
      "source": [
        "import torch\n",
        "import torch.nn as nn"
      ]
    },
    {
      "cell_type": "code",
      "source": [
        "GPT_CONFIG_124M = {\n",
        " \"vocab_size\": 50257, # Vocabulary size\n",
        " \"context_length\": 1024, # Context length\n",
        " \"emb_dim\": 768, # Embedding dimension\n",
        " \"n_heads\": 12, # Number of attention heads\n",
        " \"n_layers\": 12, # Number of layers\n",
        " \"drop_rate\": 0.1, # Dropout rate\n",
        " \"qkv_bias\": False # Query-Key-Value bias\n",
        "}"
      ],
      "metadata": {
        "id": "D_5syb9L-g7N"
      },
      "execution_count": 3,
      "outputs": []
    },
    {
      "cell_type": "code",
      "source": [
        "class MultiHeadAttention(nn.Module):\n",
        "    def __init__(self, d_in, d_out, context_length,\n",
        "                 dropout, num_heads, qkv_bias=False):\n",
        "        super().__init__()\n",
        "        assert (d_out % num_heads) == 0, \"d_out must be divisible by num_heads\"\n",
        "\n",
        "        self.d_out = d_out\n",
        "        self.dropout = nn.Dropout(dropout)\n",
        "        self.num_heads = num_heads\n",
        "        self.head_dim = d_out // num_heads\n",
        "        self.W_query = nn.Linear(d_in, d_out, bias=qkv_bias)\n",
        "        self.W_key = nn.Linear(d_in, d_out, bias=qkv_bias)\n",
        "        self.W_value = nn.Linear(d_in, d_out)\n",
        "        self.out_proj = nn.Linear(d_out, d_out)\n",
        "        self.register_buffer(\n",
        "            \"mask\",\n",
        "            torch.tril(torch.ones(context_length, context_length)))\n",
        "\n",
        "    def forward(self, x):\n",
        "        b, num_tokens, d_in = x.shape\n",
        "        keys = self.W_key(x)\n",
        "        queries = self.W_query(x)\n",
        "        values = self.W_value(x)\n",
        "\n",
        "        keys = keys.view(b, num_tokens, self.num_heads, self.head_dim)\n",
        "        values = values.view(b, num_tokens, self.num_heads, self.head_dim)\n",
        "        queries = queries.view(b, num_tokens, self.num_heads, self.head_dim)\n",
        "\n",
        "        keys = keys.transpose(1, 2)\n",
        "        values = values.transpose(1, 2)\n",
        "        queries = queries.transpose(1, 2)\n",
        "\n",
        "        attn_scores = queries @ keys.transpose(2,3)\n",
        "\n",
        "        mask_bool = self.mask.bool()[:num_tokens, :num_tokens]\n",
        "        attn_scores.masked_fill_(~mask_bool, -torch.inf)\n",
        "\n",
        "        attn_weights = torch.softmax(\n",
        "                attn_scores / keys.shape[-1] ** 0.5, dim=-1)\n",
        "        attn_weights = self.dropout(attn_weights)\n",
        "\n",
        "        context_vec = (attn_weights @ values).transpose(1,2)\n",
        "        context_vec = context_vec.contiguous().view(\n",
        "                b, num_tokens, self.d_out\n",
        "            )\n",
        "        context_vec = self.out_proj(context_vec)\n",
        "        return context_vec\n",
        "\n",
        "class LayerNorm(nn.Module):\n",
        " def __init__(self, emb_dim):\n",
        "  super().__init__()\n",
        "  self.eps = 1e-6\n",
        "  self.scale = nn.Parameter(torch.ones(emb_dim))\n",
        "  self.shift = nn.Parameter(torch.zeros(emb_dim))\n",
        "\n",
        " def forward(self, x):\n",
        "  mean = x.mean(dim=-1, keepdim=True)\n",
        "  var = x.var(dim=-1, keepdim=True, unbiased=False)\n",
        "  norm_x = (x - mean) / torch.sqrt(var + self.eps)\n",
        "  return self.scale * norm_x + self.shift\n",
        "\n",
        "class FeedForward(nn.Module):\n",
        "  def __init__(self, cfg):\n",
        "    super().__init__()\n",
        "    self.layers = nn.Sequential(\n",
        "    nn.Linear(cfg[\"emb_dim\"], 4 * cfg[\"emb_dim\"]),\n",
        "    nn.GELU(),\n",
        "    nn.Linear(4 * cfg[\"emb_dim\"], cfg[\"emb_dim\"]),\n",
        "    )\n",
        "  def forward(self, x):\n",
        "    return self.layers(x)\n",
        "\n",
        "class TransformerBlock(nn.Module):\n",
        "  def __init__(self, cfg):\n",
        "    super().__init__()\n",
        "    self.att = MultiHeadAttention(\n",
        "    d_in=cfg[\"emb_dim\"],\n",
        "    d_out=cfg[\"emb_dim\"],\n",
        "    context_length=cfg[\"context_length\"],\n",
        "    num_heads=cfg[\"n_heads\"],\n",
        "    dropout=cfg[\"drop_rate\"],\n",
        "    qkv_bias=cfg[\"qkv_bias\"])\n",
        "    self.ff = FeedForward(cfg)\n",
        "    self.norm1 = LayerNorm(cfg[\"emb_dim\"])\n",
        "    self.norm2 = LayerNorm(cfg[\"emb_dim\"])\n",
        "    self.drop_shortcut = nn.Dropout(cfg[\"drop_rate\"])\n",
        "\n",
        "  def forward(self, x):\n",
        "    shortcut = x\n",
        "    x = self.norm1(x)\n",
        "    x = self.att(x)\n",
        "    x = self.drop_shortcut(x)\n",
        "    x = x + shortcut\n",
        "    shortcut = x\n",
        "    x = self.norm2(x)\n",
        "    x = self.ff(x)\n",
        "    x = self.drop_shortcut(x)\n",
        "    x = x + shortcut\n",
        "    return x\n",
        "\n",
        "class GPTModel(nn.Module):\n",
        " def __init__(self, cfg):\n",
        "  super().__init__()\n",
        "  self.tok_emb = nn.Embedding(cfg[\"vocab_size\"], cfg[\"emb_dim\"])\n",
        "  self.pos_emb = nn.Embedding(cfg[\"context_length\"], cfg[\"emb_dim\"])\n",
        "  self.drop_emb = nn.Dropout(cfg[\"drop_rate\"])\n",
        "\n",
        "  self.trf_blocks = nn.Sequential(\n",
        "  *[TransformerBlock(cfg) for _ in range(cfg[\"n_layers\"])])\n",
        "\n",
        "  self.final_norm = LayerNorm(cfg[\"emb_dim\"])\n",
        "  self.out_head = nn.Linear(\n",
        "  cfg[\"emb_dim\"], cfg[\"vocab_size\"], bias=False\n",
        "  )\n",
        " def forward(self, in_idx):\n",
        "  batch_size, seq_len = in_idx.shape\n",
        "  tok_embeds = self.tok_emb(in_idx)\n",
        "\n",
        "  pos_embeds = self.pos_emb(\n",
        "  torch.arange(seq_len, device=in_idx.device)\n",
        "  )\n",
        "  x = tok_embeds + pos_embeds\n",
        "  x = self.drop_emb(x)\n",
        "  x = self.trf_blocks(x)\n",
        "  x = self.final_norm(x)\n",
        "  logits = self.out_head(x)\n",
        "  return logits"
      ],
      "metadata": {
        "id": "OKWY9VWZ-Kx6"
      },
      "execution_count": 4,
      "outputs": []
    },
    {
      "cell_type": "code",
      "source": [
        "model = GPTModel(GPT_CONFIG_124M)\n",
        "batch = torch.randint(0, GPT_CONFIG_124M[\"vocab_size\"], (2, GPT_CONFIG_124M[\"context_length\"]))\n",
        "out = model(batch)\n",
        "print(\"Input batch:\\n\", batch)\n",
        "print(\"\\nOutput shape:\", out.shape)\n",
        "print(out)"
      ],
      "metadata": {
        "colab": {
          "base_uri": "https://localhost:8080/"
        },
        "id": "3_dX18cq-TG1",
        "outputId": "5e4b9e30-0ee2-4391-c9a5-0cc7289c208f"
      },
      "execution_count": 5,
      "outputs": [
        {
          "output_type": "stream",
          "name": "stdout",
          "text": [
            "Input batch:\n",
            " tensor([[26626, 20021, 47928,  ..., 20164, 30904, 27139],\n",
            "        [ 7796, 21836,  1281,  ..., 32804,  3659,   481]])\n",
            "\n",
            "Output shape: torch.Size([2, 1024, 50257])\n",
            "tensor([[[-0.3776,  0.9502, -0.1534,  ...,  0.3067, -0.8525, -0.1617],\n",
            "         [ 0.6697, -0.0245, -0.4053,  ...,  0.9003,  0.8523, -0.1590],\n",
            "         [-0.0256, -0.7458,  1.0399,  ..., -0.1206, -0.5638, -0.7277],\n",
            "         ...,\n",
            "         [ 0.4978,  0.6513,  0.6050,  ..., -0.4193,  0.5393, -0.1550],\n",
            "         [ 1.1663,  0.7386,  0.5042,  ..., -0.9635,  0.1419, -0.0346],\n",
            "         [ 0.1156, -0.6217, -0.6676,  ...,  0.8343, -1.0163,  0.0281]],\n",
            "\n",
            "        [[-0.9408,  0.6475, -0.1203,  ...,  0.2241, -0.2381, -0.1163],\n",
            "         [ 0.7369, -0.4347,  0.8172,  ..., -0.0133,  0.0567, -1.1757],\n",
            "         [-0.0386, -0.0439,  1.0594,  ..., -0.2367, -0.0549, -0.7597],\n",
            "         ...,\n",
            "         [-1.0377,  1.1551,  1.1275,  ..., -0.6781,  0.0231,  0.5311],\n",
            "         [ 0.5690, -0.6571,  0.0485,  ..., -0.8588,  0.4163, -0.4998],\n",
            "         [-0.0072, -0.5272,  0.0845,  ...,  0.2681, -0.0848,  0.1666]]],\n",
            "       grad_fn=<UnsafeViewBackward0>)\n"
          ]
        }
      ]
    },
    {
      "cell_type": "code",
      "source": [
        "total_params = sum(p.numel() for p in model.parameters())\n",
        "print(f\"Total number of parameters: {total_params:,}\")"
      ],
      "metadata": {
        "colab": {
          "base_uri": "https://localhost:8080/"
        },
        "id": "FG5OZmArEha5",
        "outputId": "14aa3292-3e74-4b08-a0c5-4191320fc41d"
      },
      "execution_count": 6,
      "outputs": [
        {
          "output_type": "stream",
          "name": "stdout",
          "text": [
            "Total number of parameters: 163,018,752\n"
          ]
        }
      ]
    },
    {
      "cell_type": "code",
      "source": [
        "print(\"Token embedding layer shape:\", model.tok_emb.weight.shape)\n",
        "print(\"Output layer shape:\", model.out_head.weight.shape)"
      ],
      "metadata": {
        "colab": {
          "base_uri": "https://localhost:8080/"
        },
        "id": "nIiQpP7swD7J",
        "outputId": "1304c0ed-548c-437c-8a53-3c803e24323d"
      },
      "execution_count": 7,
      "outputs": [
        {
          "output_type": "stream",
          "name": "stdout",
          "text": [
            "Token embedding layer shape: torch.Size([50257, 768])\n",
            "Output layer shape: torch.Size([50257, 768])\n"
          ]
        }
      ]
    },
    {
      "cell_type": "markdown",
      "source": [
        "**Weight tying reduces the overall memory footprint and computational complexity\n",
        "of the model**"
      ],
      "metadata": {
        "id": "Icrq3hn5yMG5"
      }
    },
    {
      "cell_type": "code",
      "source": [
        "total_params_gpt2 = (\n",
        " total_params - sum(p.numel()\n",
        " for p in model.out_head.parameters())\n",
        ")\n",
        "print(f\"Number of trainable parameters \"\n",
        " f\"considering weight tying: {total_params_gpt2:,}\"\n",
        ")"
      ],
      "metadata": {
        "colab": {
          "base_uri": "https://localhost:8080/"
        },
        "id": "aRKPB9HExpUA",
        "outputId": "a07006f4-ef45-4e7d-8402-4c76a26cacc8"
      },
      "execution_count": 8,
      "outputs": [
        {
          "output_type": "stream",
          "name": "stdout",
          "text": [
            "Number of trainable parameters considering weight tying: 124,421,376\n"
          ]
        }
      ]
    },
    {
      "cell_type": "code",
      "source": [
        "# Memory requirements of the 163 million parameters in our GPTModel object\n",
        "\n",
        "total_size_bytes = total_params * 4\n",
        "total_size_mb = total_size_bytes / (1024 * 1024)\n",
        "print(f\"Total size of the model: {total_size_mb:.2f} MB\")"
      ],
      "metadata": {
        "colab": {
          "base_uri": "https://localhost:8080/"
        },
        "id": "du1TTVHOx00L",
        "outputId": "a58fefc0-26d9-4ae4-bb04-e0090080f60b"
      },
      "execution_count": 9,
      "outputs": [
        {
          "output_type": "stream",
          "name": "stdout",
          "text": [
            "Total size of the model: 621.87 MB\n"
          ]
        }
      ]
    },
    {
      "cell_type": "code",
      "source": [],
      "metadata": {
        "id": "PgdFoEIxyhxc"
      },
      "execution_count": null,
      "outputs": []
    }
  ]
}