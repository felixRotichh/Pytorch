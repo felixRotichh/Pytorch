{
  "nbformat": 4,
  "nbformat_minor": 0,
  "metadata": {
    "colab": {
      "provenance": [],
      "authorship_tag": "ABX9TyP/15SUVUotwmtRV7zgbZ19"
    },
    "kernelspec": {
      "name": "python3",
      "display_name": "Python 3"
    },
    "language_info": {
      "name": "python"
    }
  },
  "cells": [
    {
      "cell_type": "code",
      "execution_count": 3,
      "metadata": {
        "id": "kXciGGl2F0Zn"
      },
      "outputs": [],
      "source": [
        "import torch\n",
        "import torch.nn as nn"
      ]
    },
    {
      "cell_type": "markdown",
      "source": [
        "**A deep neural network with five layers, each consisting of a\n",
        "Linear layer and a GELU activation function**"
      ],
      "metadata": {
        "id": "y3jLbi2GRS-W"
      }
    },
    {
      "cell_type": "code",
      "source": [
        "class DeepNeuralNetwork(nn.Module):\n",
        "  def __init__(self, layer_sizes, use_shortcut):\n",
        "      super().__init__()\n",
        "      self.use_shortcut = use_shortcut\n",
        "      self.layers = nn.ModuleList([\n",
        "          nn.Sequential(nn.Linear(layer_sizes[0], layer_sizes[1]), nn.GELU()),\n",
        "          nn.Sequential(nn.Linear(layer_sizes[1], layer_sizes[2]), nn.GELU()),\n",
        "          nn.Sequential(nn.Linear(layer_sizes[2], layer_sizes[3]), nn.GELU()),\n",
        "          nn.Sequential(nn.Linear(layer_sizes[3], layer_sizes[4]), nn.GELU()),\n",
        "          nn.Sequential(nn.Linear(layer_sizes[4], layer_sizes[5]), nn.GELU())\n",
        "      ])\n",
        "\n",
        "# Pass the inputs through layers and add shortcut if self.use_shortcut is True\n",
        "  def forward(self, x):\n",
        "    for layer in self.layers:\n",
        "        layer_output = layer(x)\n",
        "        if self.use_shortcut and x.shape == layer_output.shape:\n",
        "            x = x + layer_output\n",
        "        else:\n",
        "            x = layer_output\n",
        "    return x"
      ],
      "metadata": {
        "id": "dDiJtc0aF6Rb"
      },
      "execution_count": 4,
      "outputs": []
    },
    {
      "cell_type": "markdown",
      "source": [
        "**Initialize neural network without shortcut connections**"
      ],
      "metadata": {
        "id": "7cRH4PGJQ3ML"
      }
    },
    {
      "cell_type": "code",
      "source": [
        "layer_sizes = [3, 3, 3, 3, 3, 1]\n",
        "sample_input = torch.tensor([[1., 0., -1.]])\n",
        "torch.manual_seed(123)\n",
        "model_without_shortcut = DeepNeuralNetwork(\n",
        " layer_sizes, use_shortcut=False\n",
        ")"
      ],
      "metadata": {
        "id": "r4SYpZvKQYsc"
      },
      "execution_count": 5,
      "outputs": []
    },
    {
      "cell_type": "markdown",
      "source": [
        "**Compute the Gradient in the Model's backward pass**"
      ],
      "metadata": {
        "id": "yDPKFRc0RBYx"
      }
    },
    {
      "cell_type": "code",
      "source": [
        "def print_gradients(model, x):\n",
        " output = model(x) # Forward pass\n",
        " target = torch.tensor([[0.]])\n",
        "\n",
        " loss = nn.MSELoss()\n",
        " loss = loss(output, target) #Calculate loss based on how close the target and output are\n",
        "\n",
        " loss.backward() #Backward pass to calculate gradient\n",
        "\n",
        " for name, param in model.named_parameters():\n",
        "  if 'weight' in name:\n",
        "    print(f\"{name} has gradient mean of {param.grad.abs().mean().item()}\")"
      ],
      "metadata": {
        "id": "xL0ha9mkQivO"
      },
      "execution_count": 6,
      "outputs": []
    },
    {
      "cell_type": "markdown",
      "source": [
        " **The gradients become smaller as we progress from layer 4 to layer 0.\n",
        "This is vanishing gradient problem**"
      ],
      "metadata": {
        "id": "kEp6lqlCTKmW"
      }
    },
    {
      "cell_type": "code",
      "source": [
        "print_gradients(model_without_shortcut, sample_input)"
      ],
      "metadata": {
        "colab": {
          "base_uri": "https://localhost:8080/"
        },
        "id": "pe16P67qS3Vs",
        "outputId": "cdea9f2e-b026-4175-c81e-8b170d051b16"
      },
      "execution_count": 7,
      "outputs": [
        {
          "output_type": "stream",
          "name": "stdout",
          "text": [
            "layers.0.0.weight has gradient mean of 0.00020174118981231004\n",
            "layers.1.0.weight has gradient mean of 0.00012011769285891205\n",
            "layers.2.0.weight has gradient mean of 0.0007152436301112175\n",
            "layers.3.0.weight has gradient mean of 0.00139885104727\n",
            "layers.4.0.weight has gradient mean of 0.005049602594226599\n"
          ]
        }
      ]
    },
    {
      "cell_type": "markdown",
      "source": [
        "**Instantiating the model with skip connection**.\n",
        "**The gradient does shrink vanishingly to a small value**\n",
        "\n"
      ],
      "metadata": {
        "id": "NfuGO6N7TjYc"
      }
    },
    {
      "cell_type": "code",
      "source": [
        "torch.manual_seed(123)\n",
        "model_with_shortcut = DeepNeuralNetwork(\n",
        " layer_sizes, use_shortcut=True\n",
        ")\n",
        "print_gradients(model_with_shortcut, sample_input)"
      ],
      "metadata": {
        "colab": {
          "base_uri": "https://localhost:8080/"
        },
        "id": "TQb4kvfqTAFX",
        "outputId": "84a19678-7675-4c06-f6f2-950ae6a35179"
      },
      "execution_count": 8,
      "outputs": [
        {
          "output_type": "stream",
          "name": "stdout",
          "text": [
            "layers.0.0.weight has gradient mean of 0.22186800837516785\n",
            "layers.1.0.weight has gradient mean of 0.20709273219108582\n",
            "layers.2.0.weight has gradient mean of 0.3292388319969177\n",
            "layers.3.0.weight has gradient mean of 0.2667772173881531\n",
            "layers.4.0.weight has gradient mean of 1.3268063068389893\n"
          ]
        }
      ]
    },
    {
      "cell_type": "markdown",
      "source": [
        "Shortcut connections are important for overcoming the limitations\n",
        "posed by the vanishing gradient problem in deep neural networks."
      ],
      "metadata": {
        "id": "_a6caz5GUX9f"
      }
    },
    {
      "cell_type": "code",
      "source": [],
      "metadata": {
        "id": "MvZYuCClTyCf"
      },
      "execution_count": null,
      "outputs": []
    }
  ]
}