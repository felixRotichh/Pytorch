{
  "nbformat": 4,
  "nbformat_minor": 0,
  "metadata": {
    "colab": {
      "provenance": [],
      "authorship_tag": "ABX9TyNvesBUvpN71h193Gbp7qfa"
    },
    "kernelspec": {
      "name": "python3",
      "display_name": "Python 3"
    },
    "language_info": {
      "name": "python"
    }
  },
  "cells": [
    {
      "cell_type": "code",
      "source": [
        "#Data sampling with sliding window\n"
      ],
      "metadata": {
        "id": "LRg4_agvhLSP"
      },
      "execution_count": null,
      "outputs": []
    },
    {
      "cell_type": "code",
      "execution_count": null,
      "metadata": {
        "id": "NEYnUg0DhH-i"
      },
      "outputs": [],
      "source": [
        "import torch\n",
        "from torch.utils.data import Dataset, DataLoader"
      ]
    },
    {
      "cell_type": "code",
      "source": [
        "class GPTDatasetV1(Dataset):\n",
        "    def __init__(self, txt, tokenizer, max_length, stride):\n",
        "        self.input_ids = []\n",
        "        self.target_ids = []\n",
        "\n",
        "        token_ids = tokenizer.encode(txt) #tokenizes the entire text\n",
        "\n",
        "        for i in range(0, len(token_ids) - max_length, stride):\n",
        "            input_chunk = token_ids[i:i+max_length]\n",
        "            target_chunk = token_ids[i+1:i+max_length+1]\n",
        "\n",
        "            self.input_ids.append(torch.tensor(input_chunk))\n",
        "            self.target_ids.append(torch.tensor(target_chunk))\n",
        "\n",
        "     #Returns total number of rows in the dataset\n",
        "    def __len__(self):\n",
        "        return len(self.input_ids)\n",
        "\n",
        "    #Returns a single row from the dataset\n",
        "    def __getitem__(self, idx):\n",
        "        return self.input_ids[idx], self.target_ids[idx]\n",
        "\n",
        "    #Dataloader to generate batches with input pairs\n",
        "    def create_dataloader_v1(txt, batch_size=4, max_length=256, stride=128,\n",
        "                             shuffle=True, drop_last=True, num_workers=0):\n",
        "        tokenizer = tiktoken.get_encoding(\"gpt2\")\n",
        "        dataset = GPTDatasetV1(txt, tokenizer, max_length, stride)\n",
        "        dataloader = DataLoader(\n",
        "            dataset,\n",
        "            batch_size=batch_size,\n",
        "            shuffle=shuffle,\n",
        "            drop_last=drop_last,\n",
        "            num_workers=num_workers\n",
        "        )\n",
        "\n",
        "\n",
        "        return dataloader"
      ],
      "metadata": {
        "id": "dSgWucP_jnu3"
      },
      "execution_count": null,
      "outputs": []
    }
  ]
}