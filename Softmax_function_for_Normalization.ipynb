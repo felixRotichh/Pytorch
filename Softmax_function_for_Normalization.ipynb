{
  "nbformat": 4,
  "nbformat_minor": 0,
  "metadata": {
    "colab": {
      "provenance": [],
      "authorship_tag": "ABX9TyP7F56RutbpLvcrukSS5/dq"
    },
    "kernelspec": {
      "name": "python3",
      "display_name": "Python 3"
    },
    "language_info": {
      "name": "python"
    }
  },
  "cells": [
    {
      "cell_type": "code",
      "execution_count": 7,
      "metadata": {
        "id": "Ko7LpWqzTZ2T"
      },
      "outputs": [],
      "source": [
        "import torch\n",
        "\n",
        "attn_scores_2 = torch.tensor([2.0, 4.0, 6.0, 8.0])\n"
      ]
    },
    {
      "cell_type": "markdown",
      "source": [
        "Softmax function ensures that the attention weights are always positive"
      ],
      "metadata": {
        "id": "5clnmrf1UbZH"
      }
    },
    {
      "cell_type": "code",
      "source": [
        "# Naive softmax\n",
        "def softmax_naive(x):\n",
        "    return torch.exp(x) / torch.exp(x).sum()"
      ],
      "metadata": {
        "id": "oHcdgvA2Tndx"
      },
      "execution_count": 8,
      "outputs": []
    },
    {
      "cell_type": "code",
      "source": [
        "# Compute attention weights\n",
        "attn_weights_2_naive = softmax_naive(attn_scores_2)"
      ],
      "metadata": {
        "id": "y95ZIhK5Tq2L"
      },
      "execution_count": 9,
      "outputs": []
    },
    {
      "cell_type": "code",
      "source": [
        "# Print results\n",
        "print(\"Naive Attention Weights:\", attn_weights_2_naive)\n",
        "print(\"Sum (Naive):\", attn_weights_2_naive.sum())\n",
        "\n"
      ],
      "metadata": {
        "colab": {
          "base_uri": "https://localhost:8080/"
        },
        "id": "KQpeWqnKTuFE",
        "outputId": "82bcdbab-d154-43ea-b7d1-9b493d16da8c"
      },
      "execution_count": 10,
      "outputs": [
        {
          "output_type": "stream",
          "name": "stdout",
          "text": [
            "Naive Attention Weights: tensor([0.0021, 0.0158, 0.1171, 0.8650])\n",
            "Sum (Naive): tensor(1.)\n"
          ]
        }
      ]
    },
    {
      "cell_type": "markdown",
      "source": [
        "Using Pytorch implementation of softmax as softmax naive might encounter numerical instability problems\n",
        "#torch.softmax(input, dim)"
      ],
      "metadata": {
        "id": "-e2s2linVIQT"
      }
    },
    {
      "cell_type": "code",
      "source": [
        "attn_weights_2 = torch.softmax(attn_scores_2, dim=0)\n"
      ],
      "metadata": {
        "id": "VOD80LDwUE4l"
      },
      "execution_count": 12,
      "outputs": []
    },
    {
      "cell_type": "code",
      "source": [
        "print(\"Attention Weights:\", attn_weights_2)\n",
        "print(\"Sum: \", attn_weights_2.sum())"
      ],
      "metadata": {
        "colab": {
          "base_uri": "https://localhost:8080/"
        },
        "id": "Ajfqm_fgVENj",
        "outputId": "23ff3358-79fd-43f2-843d-51970e02b7f5"
      },
      "execution_count": 14,
      "outputs": [
        {
          "output_type": "stream",
          "name": "stdout",
          "text": [
            "Attention Weights: tensor([0.0021, 0.0158, 0.1171, 0.8650])\n",
            "Sum:  tensor(1.0000)\n"
          ]
        }
      ]
    },
    {
      "cell_type": "code",
      "source": [],
      "metadata": {
        "id": "OdfBOaJXWMVZ"
      },
      "execution_count": null,
      "outputs": []
    }
  ]
}